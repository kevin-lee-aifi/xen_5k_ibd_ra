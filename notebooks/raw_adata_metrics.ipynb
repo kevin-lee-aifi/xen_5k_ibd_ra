{
 "cells": [
  {
   "cell_type": "code",
   "execution_count": 1,
   "id": "4e3b56ba-83a3-4f68-89cf-7d0ce79635ff",
   "metadata": {},
   "outputs": [],
   "source": [
    "import sys\n",
    "sys.path.insert(0, '/home/workspace/TissDiss')\n",
    "\n",
    "from tissdiss_py_util import *\n",
    "\n",
    "hdir = '/home/workspace/'\n",
    "wdir = hdir + \"/TissDiss/EXP-01244\"\n",
    "srldir = wdir + \"/EXP-01244_serial_obj/\"\n",
    "\n",
    "adata = sc.read_h5ad(srldir + 'raw_adata.h5ad')"
   ]
  },
  {
   "cell_type": "code",
   "execution_count": 34,
   "id": "573a2813-a676-4b29-91eb-326b8ca5a67b",
   "metadata": {
    "collapsed": true,
    "jupyter": {
     "outputs_hidden": true
    }
   },
   "outputs": [
    {
     "data": {
      "text/plain": [
       "['IGSF21',\n",
       " 'IGSF3',\n",
       " 'IGSF9',\n",
       " 'IGSF8',\n",
       " 'IGFN1',\n",
       " 'IGKC',\n",
       " 'IGFBP2',\n",
       " 'IGFBP5',\n",
       " 'IGSF11',\n",
       " 'IGF2BP2',\n",
       " 'IGFBP7',\n",
       " 'IGIP',\n",
       " 'IGF2R',\n",
       " 'IGF2BP3',\n",
       " 'IGFBP1',\n",
       " 'IGFBP3',\n",
       " 'IGFBPL1',\n",
       " 'IGSF22',\n",
       " 'IGSF9B',\n",
       " 'IGFBP6',\n",
       " 'IGF1',\n",
       " 'IGHA2',\n",
       " 'IGHE',\n",
       " 'IGHA1',\n",
       " 'IGHG1',\n",
       " 'IGHG3',\n",
       " 'IGHD',\n",
       " 'IGHM',\n",
       " 'IGDCC3',\n",
       " 'IGDCC4',\n",
       " 'IGF1R',\n",
       " 'IGFALS',\n",
       " 'IGSF6',\n",
       " 'IGFBP4',\n",
       " 'IGF2BP1',\n",
       " 'IGFLR1',\n",
       " 'IGSF23',\n",
       " 'IGFL4',\n",
       " 'IGFL3',\n",
       " 'IGFL2',\n",
       " 'IGFL1',\n",
       " 'IGLON5',\n",
       " 'IGSF5',\n",
       " 'IGLC1',\n",
       " 'IGLC7',\n",
       " 'IGLL1',\n",
       " 'IGBP1',\n",
       " 'IGSF1']"
      ]
     },
     "execution_count": 34,
     "metadata": {},
     "output_type": "execute_result"
    }
   ],
   "source": [
    "# \"IGM\" in adata.var.gene_ids\n",
    "# help(adata.var.gene_ids)\n",
    "# dir(adata.var.gene_ids)\n",
    "\n",
    "# How can I show only genes that start with \"IG\" from this list\n",
    "\n",
    "ls = list(adata.var.gene_ids.index)\n",
    "\n",
    "ig_genes = [gene for gene in ls if gene.startswith(\"IG\")]\n",
    "\n",
    "ig_genes"
   ]
  },
  {
   "cell_type": "code",
   "execution_count": null,
   "id": "ef384c97-830f-4c98-9081-a410dfc25610",
   "metadata": {},
   "outputs": [],
   "source": [
    "\"IGHDY1\" in "
   ]
  }
 ],
 "metadata": {
  "kernelspec": {
   "display_name": "Python (tissdiss_py_env)",
   "language": "python",
   "name": "tissdiss_py_env"
  },
  "language_info": {
   "codemirror_mode": {
    "name": "ipython",
    "version": 3
   },
   "file_extension": ".py",
   "mimetype": "text/x-python",
   "name": "python",
   "nbconvert_exporter": "python",
   "pygments_lexer": "ipython3",
   "version": "3.9.21"
  }
 },
 "nbformat": 4,
 "nbformat_minor": 5
}
