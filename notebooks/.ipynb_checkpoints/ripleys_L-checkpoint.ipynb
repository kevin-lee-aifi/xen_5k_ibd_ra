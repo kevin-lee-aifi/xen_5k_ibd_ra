{
 "cells": [
  {
   "cell_type": "code",
   "execution_count": 1,
   "id": "27ce8bc9-47ea-41da-85b9-0229d9021251",
   "metadata": {},
   "outputs": [],
   "source": [
    "from typing import Dict, Union, Optional, Sequence\n",
    "import numpy as np\n",
    "import pandas as pd\n",
    "from anndata import AnnData\n",
    "from numpy.random import default_rng\n",
    "from scipy.spatial import ConvexHull\n",
    "from scipy.spatial.distance import pdist\n",
    "from tqdm import tqdm\n",
    "import matplotlib.pyplot as plt\n",
    "import seaborn as sns\n",
    "from functools import partial\n",
    "import multiprocessing as mp\n",
    "from scanpy import logging as logg\n",
    "import squidpy as sq\n",
    "import logging\n",
    "import psutil\n",
    "import os\n",
    "from datetime import datetime\n",
    "import time\n",
    "from xen5k_utils import *\n",
    "\n",
    "hdir = '/home/workspace/'\n",
    "srldir = hdir + 'xen_5k_ibd_ra/objects/'\n",
    "\n",
    "adatas = load(srldir + 'processed_adatas.joblib')"
   ]
  },
  {
   "cell_type": "code",
   "execution_count": null,
   "id": "ff2405fa-316a-4028-acb3-114a58c596e7",
   "metadata": {},
   "outputs": [],
   "source": []
  }
 ],
 "metadata": {
  "kernelspec": {
   "display_name": "Python (xen5k_env)",
   "language": "python",
   "name": "xen5k_env"
  },
  "language_info": {
   "codemirror_mode": {
    "name": "ipython",
    "version": 3
   },
   "file_extension": ".py",
   "mimetype": "text/x-python",
   "name": "python",
   "nbconvert_exporter": "python",
   "pygments_lexer": "ipython3",
   "version": "3.9.21"
  }
 },
 "nbformat": 4,
 "nbformat_minor": 5
}
